{
 "cells": [
  {
   "cell_type": "markdown",
   "metadata": {},
   "source": [
    "# Saving model architecture only\n",
    "\n",
    "In this reading you will learn how to save a model's architecture, but not its weights."
   ]
  },
  {
   "cell_type": "code",
   "execution_count": null,
   "metadata": {},
   "outputs": [],
   "source": [
    "import tensorflow as tf\n",
    "from tensorflow.keras.models import Sequential\n",
    "from tensorflow.keras.layers import Dense\n",
    "import json\n",
    "import numpy as np"
   ]
  },
  {
   "cell_type": "markdown",
   "metadata": {},
   "source": [
    "In previous videos and notebooks you have have learned how to save a model's weights, as well as the entire model - weights and architecture."
   ]
  },
  {
   "cell_type": "markdown",
   "metadata": {},
   "source": [
    "### Accessing a model's configuration\n",
    "A model's *configuration* refers to its architecture. TensorFlow has a convenient way to retrieve a model's architecture as a dictionary. We start by creating a simple fully connected feedforward neural network with 1 hidden layer."
   ]
  },
  {
   "cell_type": "code",
   "execution_count": null,
   "metadata": {},
   "outputs": [],
   "source": [
    "# Build the model\n",
    "\n",
    "model = Sequential([\n",
    "    Dense(units=32, input_shape=(32, 32, 3), activation='relu', name='dense_1'),\n",
    "    Dense(units=10, activation='softmax', name='dense_2')\n",
    "])"
   ]
  },
  {
   "cell_type": "markdown",
   "metadata": {},
   "source": [
    "A TensorFlow model has an inbuilt method `get_config` which returns the model's architecture as a dictionary:"
   ]
  },
  {
   "cell_type": "code",
   "execution_count": null,
   "metadata": {},
   "outputs": [],
   "source": [
    "# Get the model config\n",
    "\n",
    "config_dict = model.get_config()\n",
    "print(config_dict)"
   ]
  },
  {
   "cell_type": "markdown",
   "metadata": {},
   "source": [
    "### Creating a new model from the config\n",
    "A new TensorFlow model can be created from this config dictionary. This model will have reinitialized weights, which are not the same as the original model."
   ]
  },
  {
   "cell_type": "code",
   "execution_count": null,
   "metadata": {},
   "outputs": [],
   "source": [
    "# Create a model from the config dictionary\n",
    "\n",
    "model_same_config = tf.keras.Sequential.from_config(config_dict)"
   ]
  },
  {
   "cell_type": "markdown",
   "metadata": {},
   "source": [
    "We can check explicitly that the config of both models is the same, but the weights are not: "
   ]
  },
  {
   "cell_type": "code",
   "execution_count": null,
   "metadata": {},
   "outputs": [],
   "source": [
    "# Check the new model is the same architecture\n",
    "\n",
    "print('Same config:', \n",
    "      model.get_config() == model_same_config.get_config())\n",
    "print('Same value for first weight matrix:', \n",
    "      np.allclose(model.weights[0].numpy(), model_same_config.weights[0].numpy()))"
   ]
  },
  {
   "cell_type": "markdown",
   "metadata": {},
   "source": [
    "For models that are not `Sequential` models, use `tf.keras.Model.from_config` instead of `tf.keras.Sequential.from_config`."
   ]
  },
  {
   "cell_type": "markdown",
   "metadata": {},
   "source": [
    "### Other file formats: JSON and YAML\n",
    "It is also possible to obtain a model's config in JSON or YAML formats. This follows the same pattern:"
   ]
  },
  {
   "cell_type": "code",
   "execution_count": null,
   "metadata": {},
   "outputs": [],
   "source": [
    "# Convert the model to JSON\n",
    "\n",
    "json_string = model.to_json()\n",
    "print(json_string)"
   ]
  },
  {
   "cell_type": "markdown",
   "metadata": {},
   "source": [
    "The JSON format can easily be written out and saved as a file:"
   ]
  },
  {
   "cell_type": "code",
   "execution_count": null,
   "metadata": {},
   "outputs": [],
   "source": [
    "# Write out JSON config file\n",
    "\n",
    "with open('config.json', 'w') as f:\n",
    "    json.dump(json_string, f)\n",
    "del json_string"
   ]
  },
  {
   "cell_type": "code",
   "execution_count": null,
   "metadata": {},
   "outputs": [],
   "source": [
    "# Read in JSON config file again\n",
    "\n",
    "with open('config.json', 'r') as f:\n",
    "    json_string = json.load(f)"
   ]
  },
  {
   "cell_type": "code",
   "execution_count": null,
   "metadata": {},
   "outputs": [],
   "source": [
    "# Reinitialize the model\n",
    "\n",
    "model_same_config = tf.keras.models.model_from_json(json_string)"
   ]
  },
  {
   "cell_type": "code",
   "execution_count": null,
   "metadata": {},
   "outputs": [],
   "source": [
    "# Check the new model is the same architecture, but different weights\n",
    "\n",
    "print('Same config:', \n",
    "      model.get_config() == model_same_config.get_config())\n",
    "print('Same value for first weight matrix:', \n",
    "      np.allclose(model.weights[0].numpy(), model_same_config.weights[0].numpy()))"
   ]
  },
  {
   "cell_type": "markdown",
   "metadata": {},
   "source": [
    "The YAML format is similar. The details of writing out YAML files, loading them and using them to create a new model are similar as for the JSON files, so we won't show it here."
   ]
  },
  {
   "cell_type": "code",
   "execution_count": null,
   "metadata": {},
   "outputs": [],
   "source": [
    "# Convert the model to YAML\n",
    "\n",
    "yaml_string = model.to_yaml()\n",
    "print(yaml_string)"
   ]
  },
  {
   "cell_type": "markdown",
   "metadata": {},
   "source": [
    "Writing out, reading in and using YAML files to create models is similar to JSON files. "
   ]
  },
  {
   "cell_type": "markdown",
   "metadata": {},
   "source": [
    "### Further reading and resources\n",
    "* https://www.tensorflow.org/guide/keras/save_and_serialize#architecture-only_saving\n",
    "* https://keras.io/getting-started/faq/#how-can-i-save-a-keras-model"
   ]
  }
 ],
 "metadata": {
  "kernelspec": {
   "display_name": "Python 3",
   "language": "python",
   "name": "python3"
  },
  "language_info": {
   "codemirror_mode": {
    "name": "ipython",
    "version": 3
   },
   "file_extension": ".py",
   "mimetype": "text/x-python",
   "name": "python",
   "nbconvert_exporter": "python",
   "pygments_lexer": "ipython3",
   "version": "3.7.1"
  }
 },
 "nbformat": 4,
 "nbformat_minor": 2
}
